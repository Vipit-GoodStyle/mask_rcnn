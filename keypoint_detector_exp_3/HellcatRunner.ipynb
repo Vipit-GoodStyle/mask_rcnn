{
  "nbformat": 4,
  "nbformat_minor": 0,
  "metadata": {
    "colab": {
      "name": "HellcatRunner.ipynb",
      "provenance": [],
      "collapsed_sections": [],
      "mount_file_id": "16hGGp2erGbBvfDuJl94P9eZk5Cyr2yz3",
      "authorship_tag": "ABX9TyPJ+qoFmwDpjl7W8GZGyQqX",
      "include_colab_link": true
    },
    "kernelspec": {
      "name": "python3",
      "display_name": "Python 3"
    },
    "language_info": {
      "name": "python"
    },
    "accelerator": "GPU"
  },
  "cells": [
    {
      "cell_type": "markdown",
      "metadata": {
        "id": "view-in-github",
        "colab_type": "text"
      },
      "source": [
        "<a href=\"https://colab.research.google.com/github/DmitriyBartoshik/MaskRCNNFshionKeypoint/blob/master/HellcatRunner.ipynb\" target=\"_parent\"><img src=\"https://colab.research.google.com/assets/colab-badge.svg\" alt=\"Open In Colab\"/></a>"
      ]
    },
    {
      "cell_type": "code",
      "execution_count": 2,
      "metadata": {
        "id": "ECwlCubTj_OL",
        "colab": {
          "base_uri": "https://localhost:8080/"
        },
        "outputId": "4a5eb631-cb8b-47a5-f304-f10dee05e3a2"
      },
      "outputs": [
        {
          "output_type": "stream",
          "name": "stdout",
          "text": [
            "/content\n",
            "Cloning into 'mask_rcnn'...\n",
            "remote: Enumerating objects: 309, done.\u001b[K\n",
            "remote: Counting objects: 100% (309/309), done.\u001b[K\n",
            "remote: Compressing objects: 100% (212/212), done.\u001b[K\n",
            "remote: Total 309 (delta 177), reused 224 (delta 93), pack-reused 0\u001b[K\n",
            "Receiving objects: 100% (309/309), 4.96 MiB | 31.34 MiB/s, done.\n",
            "Resolving deltas: 100% (177/177), done.\n"
          ]
        }
      ],
      "source": [
        "%cd /content\n",
        "!rm -rf mask_rcnn\n",
        "!git clone https://github.com/Vipit-GoodStyle/mask_rcnn.git"
      ]
    },
    {
      "cell_type": "code",
      "source": [
        "%cd /content/mask_rcnn/keypoint_detector_exp_3\n",
        "!pip install -r requirements.txt"
      ],
      "metadata": {
        "id": "mSUfRaG6oCP6"
      },
      "execution_count": null,
      "outputs": []
    },
    {
      "cell_type": "code",
      "source": [
        "%cd /content/mask_rcnn/keypoint_detector_exp_3\n",
        "!rm -rf keypoint_data\n",
        "!mkdir keypoint_data\n"
      ],
      "metadata": {
        "colab": {
          "base_uri": "https://localhost:8080/"
        },
        "id": "yYzTMa2hlcYo",
        "outputId": "1bdf729c-c0c3-4255-e00f-5ad58a77b33f"
      },
      "execution_count": 5,
      "outputs": [
        {
          "output_type": "stream",
          "name": "stdout",
          "text": [
            "/content/mask_rcnn/keypoint_detector_exp_3\n"
          ]
        }
      ]
    },
    {
      "cell_type": "code",
      "source": [
        "%cd /content/mask_rcnn/keypoint_detector_exp_3/keypoint_data\n",
        "!unzip /content/drive/MyDrive/FashionAI/datasets/for_pretrained_shorts_7_point.zip"
      ],
      "metadata": {
        "id": "Gb50rFnrliTh"
      },
      "execution_count": null,
      "outputs": []
    },
    {
      "cell_type": "code",
      "source": [
        "%cd /content/mask_rcnn/keypoint_detector_exp_3\n",
        "!wget --quiet https://github.com/matterport/Mask_RCNN/releases/download/v2.0/mask_rcnn_coco.h5\n",
        "!ls -lh mask_rcnn_coco.h5"
      ],
      "metadata": {
        "colab": {
          "base_uri": "https://localhost:8080/"
        },
        "id": "yVOMmxdYrz5U",
        "outputId": "9096a9b5-2065-4c97-8275-18942fc3e479"
      },
      "execution_count": 7,
      "outputs": [
        {
          "output_type": "stream",
          "name": "stdout",
          "text": [
            "/content/mask_rcnn/keypoint_detector_exp_3\n",
            "-rw-r--r-- 1 root root 246M Dec  6 18:58 mask_rcnn_coco.h5\n"
          ]
        }
      ]
    },
    {
      "cell_type": "code",
      "source": [
        "%cd /content/mask_rcnn/keypoint_detector_exp_3\n",
        "!rm -rf logs_trousers\n",
        "!mkdir logs_trousers\n",
        "%cd logs_trousers\n",
        "!mkdir trousers050222\n",
        "!cp /content/drive/MyDrive/FashionAI/mymodels/original_dataset_trousers/keypoint_detector_exp3/pretrane_for_shorts/1_10_5_head/mask_rcnn_trousers_0015.h5 /content/mask_rcnn/keypoint_detector_exp_3/logs_trousers/trousers050222\n"
      ],
      "metadata": {
        "colab": {
          "base_uri": "https://localhost:8080/"
        },
        "id": "nwzfWVfxi9um",
        "outputId": "bcd8d0b3-532b-4834-f2c7-69a9310b7f90"
      },
      "execution_count": 8,
      "outputs": [
        {
          "output_type": "stream",
          "name": "stdout",
          "text": [
            "/content/mask_rcnn/keypoint_detector_exp_3\n",
            "/content/mask_rcnn/keypoint_detector_exp_3/logs_trousers\n"
          ]
        }
      ]
    },
    {
      "cell_type": "code",
      "source": [
        "%cd /content/mask_rcnn/keypoint_detector_exp_3\n",
        "%run FI_train.py"
      ],
      "metadata": {
        "id": "Y45JGrd7ncCp"
      },
      "execution_count": null,
      "outputs": []
    }
  ]
}